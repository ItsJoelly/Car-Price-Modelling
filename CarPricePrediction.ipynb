{
  "cells": [
    {
      "cell_type": "code",
      "execution_count": 154,
      "metadata": {},
      "outputs": [
        {
          "data": {
            "text/html": [
              "<div>\n",
              "<style scoped>\n",
              "    .dataframe tbody tr th:only-of-type {\n",
              "        vertical-align: middle;\n",
              "    }\n",
              "\n",
              "    .dataframe tbody tr th {\n",
              "        vertical-align: top;\n",
              "    }\n",
              "\n",
              "    .dataframe thead th {\n",
              "        text-align: right;\n",
              "    }\n",
              "</style>\n",
              "<table border=\"1\" class=\"dataframe\">\n",
              "  <thead>\n",
              "    <tr style=\"text-align: right;\">\n",
              "      <th></th>\n",
              "      <th>Car_Name</th>\n",
              "      <th>Year</th>\n",
              "      <th>Fuel_Type</th>\n",
              "      <th>Selling_type</th>\n",
              "      <th>Transmission</th>\n",
              "      <th>Owner</th>\n",
              "      <th>Present_Price</th>\n",
              "      <th>Driven_Miles</th>\n",
              "      <th>Selling_Price</th>\n",
              "    </tr>\n",
              "  </thead>\n",
              "  <tbody>\n",
              "    <tr>\n",
              "      <th>0</th>\n",
              "      <td>Renault Duster</td>\n",
              "      <td>2006.0</td>\n",
              "      <td>CNG</td>\n",
              "      <td>Dealer</td>\n",
              "      <td>Automatic</td>\n",
              "      <td>0.0</td>\n",
              "      <td>13.68</td>\n",
              "      <td>156404.0</td>\n",
              "      <td>5.56</td>\n",
              "    </tr>\n",
              "    <tr>\n",
              "      <th>1</th>\n",
              "      <td>NaN</td>\n",
              "      <td>2019.0</td>\n",
              "      <td>CNG</td>\n",
              "      <td>Individual</td>\n",
              "      <td>NaN</td>\n",
              "      <td>2.0</td>\n",
              "      <td>8.46</td>\n",
              "      <td>79369.0</td>\n",
              "      <td>NaN</td>\n",
              "    </tr>\n",
              "    <tr>\n",
              "      <th>2</th>\n",
              "      <td>Honda City</td>\n",
              "      <td>2005.0</td>\n",
              "      <td>Diesel</td>\n",
              "      <td>Dealer</td>\n",
              "      <td>Manual</td>\n",
              "      <td>0.0</td>\n",
              "      <td>NaN</td>\n",
              "      <td>60875.0</td>\n",
              "      <td>1.97</td>\n",
              "    </tr>\n",
              "    <tr>\n",
              "      <th>3</th>\n",
              "      <td>Kia Seltos</td>\n",
              "      <td>2009.0</td>\n",
              "      <td>Diesel</td>\n",
              "      <td>Individual</td>\n",
              "      <td>Manual</td>\n",
              "      <td>0.0</td>\n",
              "      <td>21.79</td>\n",
              "      <td>51116.0</td>\n",
              "      <td>11.43</td>\n",
              "    </tr>\n",
              "    <tr>\n",
              "      <th>4</th>\n",
              "      <td>Ford EcoSport</td>\n",
              "      <td>2008.0</td>\n",
              "      <td>Diesel</td>\n",
              "      <td>Dealer</td>\n",
              "      <td>Manual</td>\n",
              "      <td>0.0</td>\n",
              "      <td>24.75</td>\n",
              "      <td>99211.0</td>\n",
              "      <td>17.64</td>\n",
              "    </tr>\n",
              "  </tbody>\n",
              "</table>\n",
              "</div>"
            ],
            "text/plain": [
              "         Car_Name    Year Fuel_Type Selling_type Transmission  Owner  \\\n",
              "0  Renault Duster  2006.0       CNG       Dealer    Automatic    0.0   \n",
              "1             NaN  2019.0       CNG   Individual          NaN    2.0   \n",
              "2      Honda City  2005.0    Diesel       Dealer       Manual    0.0   \n",
              "3      Kia Seltos  2009.0    Diesel   Individual       Manual    0.0   \n",
              "4   Ford EcoSport  2008.0    Diesel       Dealer       Manual    0.0   \n",
              "\n",
              "   Present_Price  Driven_Miles  Selling_Price  \n",
              "0          13.68      156404.0           5.56  \n",
              "1           8.46       79369.0            NaN  \n",
              "2            NaN       60875.0           1.97  \n",
              "3          21.79       51116.0          11.43  \n",
              "4          24.75       99211.0          17.64  "
            ]
          },
          "execution_count": 154,
          "metadata": {},
          "output_type": "execute_result"
        }
      ],
      "source": [
        "import pandas as pd\n",
        "df = pd.read_csv('car_data.csv')\n",
        "df.head()"
      ]
    },
    {
      "cell_type": "code",
      "execution_count": 155,
      "metadata": {
        "colab": {
          "base_uri": "https://localhost:8080/",
          "height": 366
        },
        "id": "1mbmLrfdXKs1",
        "outputId": "2860e786-1da8-42b7-d199-a15488a44f63"
      },
      "outputs": [
        {
          "data": {
            "text/plain": [
              "Car_Name         15\n",
              "Year             15\n",
              "Fuel_Type        15\n",
              "Selling_type     15\n",
              "Transmission     15\n",
              "Owner            15\n",
              "Present_Price    15\n",
              "Driven_Miles     15\n",
              "Selling_Price    15\n",
              "dtype: int64"
            ]
          },
          "execution_count": 155,
          "metadata": {},
          "output_type": "execute_result"
        }
      ],
      "source": [
        "df.isnull().sum()"
      ]
    },
    {
      "cell_type": "code",
      "execution_count": 156,
      "metadata": {
        "colab": {
          "base_uri": "https://localhost:8080/",
          "height": 300
        },
        "id": "bttIlhzhXOLz",
        "outputId": "de1caef1-2290-423a-fc45-e5f54d1330ac"
      },
      "outputs": [
        {
          "data": {
            "text/html": [
              "<div>\n",
              "<style scoped>\n",
              "    .dataframe tbody tr th:only-of-type {\n",
              "        vertical-align: middle;\n",
              "    }\n",
              "\n",
              "    .dataframe tbody tr th {\n",
              "        vertical-align: top;\n",
              "    }\n",
              "\n",
              "    .dataframe thead th {\n",
              "        text-align: right;\n",
              "    }\n",
              "</style>\n",
              "<table border=\"1\" class=\"dataframe\">\n",
              "  <thead>\n",
              "    <tr style=\"text-align: right;\">\n",
              "      <th></th>\n",
              "      <th>Year</th>\n",
              "      <th>Owner</th>\n",
              "      <th>Present_Price</th>\n",
              "      <th>Driven_Miles</th>\n",
              "      <th>Selling_Price</th>\n",
              "    </tr>\n",
              "  </thead>\n",
              "  <tbody>\n",
              "    <tr>\n",
              "      <th>count</th>\n",
              "      <td>135.000000</td>\n",
              "      <td>135.000000</td>\n",
              "      <td>135.000000</td>\n",
              "      <td>135.000000</td>\n",
              "      <td>135.000000</td>\n",
              "    </tr>\n",
              "    <tr>\n",
              "      <th>mean</th>\n",
              "      <td>2014.259259</td>\n",
              "      <td>1.518519</td>\n",
              "      <td>16.109556</td>\n",
              "      <td>91563.718519</td>\n",
              "      <td>10.450963</td>\n",
              "    </tr>\n",
              "    <tr>\n",
              "      <th>std</th>\n",
              "      <td>5.648884</td>\n",
              "      <td>1.105292</td>\n",
              "      <td>8.103910</td>\n",
              "      <td>52717.477819</td>\n",
              "      <td>5.833828</td>\n",
              "    </tr>\n",
              "    <tr>\n",
              "      <th>min</th>\n",
              "      <td>2005.000000</td>\n",
              "      <td>0.000000</td>\n",
              "      <td>2.560000</td>\n",
              "      <td>6362.000000</td>\n",
              "      <td>1.340000</td>\n",
              "    </tr>\n",
              "    <tr>\n",
              "      <th>25%</th>\n",
              "      <td>2009.000000</td>\n",
              "      <td>1.000000</td>\n",
              "      <td>8.905000</td>\n",
              "      <td>48220.500000</td>\n",
              "      <td>5.345000</td>\n",
              "    </tr>\n",
              "    <tr>\n",
              "      <th>50%</th>\n",
              "      <td>2014.000000</td>\n",
              "      <td>2.000000</td>\n",
              "      <td>16.750000</td>\n",
              "      <td>88961.000000</td>\n",
              "      <td>10.130000</td>\n",
              "    </tr>\n",
              "    <tr>\n",
              "      <th>75%</th>\n",
              "      <td>2019.000000</td>\n",
              "      <td>2.000000</td>\n",
              "      <td>22.415000</td>\n",
              "      <td>133818.000000</td>\n",
              "      <td>14.835000</td>\n",
              "    </tr>\n",
              "    <tr>\n",
              "      <th>max</th>\n",
              "      <td>2023.000000</td>\n",
              "      <td>3.000000</td>\n",
              "      <td>29.720000</td>\n",
              "      <td>199406.000000</td>\n",
              "      <td>22.210000</td>\n",
              "    </tr>\n",
              "  </tbody>\n",
              "</table>\n",
              "</div>"
            ],
            "text/plain": [
              "              Year       Owner  Present_Price   Driven_Miles  Selling_Price\n",
              "count   135.000000  135.000000     135.000000     135.000000     135.000000\n",
              "mean   2014.259259    1.518519      16.109556   91563.718519      10.450963\n",
              "std       5.648884    1.105292       8.103910   52717.477819       5.833828\n",
              "min    2005.000000    0.000000       2.560000    6362.000000       1.340000\n",
              "25%    2009.000000    1.000000       8.905000   48220.500000       5.345000\n",
              "50%    2014.000000    2.000000      16.750000   88961.000000      10.130000\n",
              "75%    2019.000000    2.000000      22.415000  133818.000000      14.835000\n",
              "max    2023.000000    3.000000      29.720000  199406.000000      22.210000"
            ]
          },
          "execution_count": 156,
          "metadata": {},
          "output_type": "execute_result"
        }
      ],
      "source": [
        "df.describe()"
      ]
    },
    {
      "cell_type": "code",
      "execution_count": 157,
      "metadata": {
        "colab": {
          "base_uri": "https://localhost:8080/",
          "height": 426
        },
        "id": "88lsHzg1Xvfa",
        "outputId": "f9101690-ef73-48e1-90d8-387672d4f910"
      },
      "outputs": [
        {
          "data": {
            "image/png": "[encoded data removed]",
            "text/plain": [
              "<Figure size 1800x500 with 3 Axes>"
            ]
          },
          "metadata": {},
          "output_type": "display_data"
        }
      ],
      "source": [
        "import seaborn as sns\n",
        "import matplotlib.pyplot as plt\n",
        "\n",
        "fig, axes = plt.subplots(1, 3, figsize=(18, 5))\n",
        "\n",
        "# Boxplot for Selling Price in GBP\n",
        "sns.boxplot(y=df['Selling_Price'], ax=axes[0])\n",
        "axes[0].set_title('Selling Price')\n",
        "\n",
        "# Boxplot for Present Price in GBP\n",
        "sns.boxplot(y=df['Present_Price'], ax=axes[1])\n",
        "axes[1].set_title('Present Price')\n",
        "\n",
        "# Boxplot for Driven Miles\n",
        "sns.boxplot(y=df['Driven_Miles'], ax=axes[2])\n",
        "axes[2].set_title('Driven Miles')\n",
        "\n",
        "plt.tight_layout()\n",
        "plt.show()\n",
        "\n",
        "\n"
      ]
    },
    {
      "cell_type": "code",
      "execution_count": 158,
      "metadata": {
        "id": "TcWrKT8xZVxF"
      },
      "outputs": [
        {
          "name": "stdout",
          "output_type": "stream",
          "text": [
            "Original dataset shape: (150, 9)\n",
            "Cleaned dataset shape: (109, 9)\n"
          ]
        }
      ],
      "source": [
        "def remove_outliers_iqr(df, columns):\n",
        "    for col in columns:\n",
        "        Q1 = df[col].quantile(0.25)\n",
        "        Q3 = df[col].quantile(0.75)\n",
        "        IQR = Q3 - Q1\n",
        "        lower_bound = Q1 - 1.5 * IQR\n",
        "        upper_bound = Q3 + 1.5 * IQR\n",
        "        df = df[(df[col] >= lower_bound) & (df[col] <= upper_bound)]\n",
        "    return df\n",
        "\n",
        "# Columns to check for outliers in London metrics\n",
        "numeric_columns = ['Selling_Price', 'Present_Price', 'Driven_Miles']\n",
        "\n",
        "# Apply the function\n",
        "df_clean = remove_outliers_iqr(df, numeric_columns)\n",
        "\n",
        "print(f\"Original dataset shape: {df.shape}\")\n",
        "print(f\"Cleaned dataset shape: {df_clean.shape}\")\n"
      ]
    },
    {
      "cell_type": "code",
      "execution_count": 159,
      "metadata": {
        "colab": {
          "base_uri": "https://localhost:8080/"
        },
        "id": "8H_beBtoZvMT",
        "outputId": "849d794f-eb15-41ba-c799-0348c76a0fca"
      },
      "outputs": [
        {
          "data": {
            "text/plain": [
              "(109, 9)"
            ]
          },
          "execution_count": 159,
          "metadata": {},
          "output_type": "execute_result"
        }
      ],
      "source": [
        "df_clean.shape"
      ]
    },
    {
      "cell_type": "code",
      "execution_count": 160,
      "metadata": {
        "colab": {
          "base_uri": "https://localhost:8080/",
          "height": 300
        },
        "id": "UDfa2AfXe1WO",
        "outputId": "41a8d27d-5e73-4eb9-da03-0d5f5e2d58a8"
      },
      "outputs": [
        {
          "data": {
            "text/html": [
              "<div>\n",
              "<style scoped>\n",
              "    .dataframe tbody tr th:only-of-type {\n",
              "        vertical-align: middle;\n",
              "    }\n",
              "\n",
              "    .dataframe tbody tr th {\n",
              "        vertical-align: top;\n",
              "    }\n",
              "\n",
              "    .dataframe thead th {\n",
              "        text-align: right;\n",
              "    }\n",
              "</style>\n",
              "<table border=\"1\" class=\"dataframe\">\n",
              "  <thead>\n",
              "    <tr style=\"text-align: right;\">\n",
              "      <th></th>\n",
              "      <th>Year</th>\n",
              "      <th>Owner</th>\n",
              "      <th>Present_Price</th>\n",
              "      <th>Driven_Miles</th>\n",
              "      <th>Selling_Price</th>\n",
              "    </tr>\n",
              "  </thead>\n",
              "  <tbody>\n",
              "    <tr>\n",
              "      <th>count</th>\n",
              "      <td>97.000000</td>\n",
              "      <td>99.000000</td>\n",
              "      <td>109.000000</td>\n",
              "      <td>109.000000</td>\n",
              "      <td>109.000000</td>\n",
              "    </tr>\n",
              "    <tr>\n",
              "      <th>mean</th>\n",
              "      <td>2014.061856</td>\n",
              "      <td>1.525253</td>\n",
              "      <td>16.249908</td>\n",
              "      <td>90143.541284</td>\n",
              "      <td>10.599817</td>\n",
              "    </tr>\n",
              "    <tr>\n",
              "      <th>std</th>\n",
              "      <td>5.507220</td>\n",
              "      <td>1.081792</td>\n",
              "      <td>8.276951</td>\n",
              "      <td>53014.586366</td>\n",
              "      <td>5.984828</td>\n",
              "    </tr>\n",
              "    <tr>\n",
              "      <th>min</th>\n",
              "      <td>2005.000000</td>\n",
              "      <td>0.000000</td>\n",
              "      <td>2.560000</td>\n",
              "      <td>6362.000000</td>\n",
              "      <td>1.340000</td>\n",
              "    </tr>\n",
              "    <tr>\n",
              "      <th>25%</th>\n",
              "      <td>2009.000000</td>\n",
              "      <td>1.000000</td>\n",
              "      <td>8.290000</td>\n",
              "      <td>48196.000000</td>\n",
              "      <td>5.390000</td>\n",
              "    </tr>\n",
              "    <tr>\n",
              "      <th>50%</th>\n",
              "      <td>2014.000000</td>\n",
              "      <td>2.000000</td>\n",
              "      <td>16.980000</td>\n",
              "      <td>86962.000000</td>\n",
              "      <td>10.130000</td>\n",
              "    </tr>\n",
              "    <tr>\n",
              "      <th>75%</th>\n",
              "      <td>2018.000000</td>\n",
              "      <td>2.000000</td>\n",
              "      <td>23.010000</td>\n",
              "      <td>124979.000000</td>\n",
              "      <td>14.970000</td>\n",
              "    </tr>\n",
              "    <tr>\n",
              "      <th>max</th>\n",
              "      <td>2023.000000</td>\n",
              "      <td>3.000000</td>\n",
              "      <td>29.720000</td>\n",
              "      <td>199406.000000</td>\n",
              "      <td>22.210000</td>\n",
              "    </tr>\n",
              "  </tbody>\n",
              "</table>\n",
              "</div>"
            ],
            "text/plain": [
              "              Year      Owner  Present_Price   Driven_Miles  Selling_Price\n",
              "count    97.000000  99.000000     109.000000     109.000000     109.000000\n",
              "mean   2014.061856   1.525253      16.249908   90143.541284      10.599817\n",
              "std       5.507220   1.081792       8.276951   53014.586366       5.984828\n",
              "min    2005.000000   0.000000       2.560000    6362.000000       1.340000\n",
              "25%    2009.000000   1.000000       8.290000   48196.000000       5.390000\n",
              "50%    2014.000000   2.000000      16.980000   86962.000000      10.130000\n",
              "75%    2018.000000   2.000000      23.010000  124979.000000      14.970000\n",
              "max    2023.000000   3.000000      29.720000  199406.000000      22.210000"
            ]
          },
          "execution_count": 160,
          "metadata": {},
          "output_type": "execute_result"
        }
      ],
      "source": [
        "df_clean.describe()"
      ]
    },
    {
      "cell_type": "code",
      "execution_count": 161,
      "metadata": {
        "colab": {
          "base_uri": "https://localhost:8080/"
        },
        "id": "W2o_Sprce3rV",
        "outputId": "f2ebefe7-9a1b-49ae-ab3b-38ce9f519566"
      },
      "outputs": [
        {
          "name": "stdout",
          "output_type": "stream",
          "text": [
            "<class 'pandas.core.frame.DataFrame'>\n",
            "RangeIndex: 150 entries, 0 to 149\n",
            "Data columns (total 9 columns):\n",
            " #   Column         Non-Null Count  Dtype  \n",
            "---  ------         --------------  -----  \n",
            " 0   Car_Name       135 non-null    object \n",
            " 1   Year           135 non-null    float64\n",
            " 2   Fuel_Type      135 non-null    object \n",
            " 3   Selling_type   135 non-null    object \n",
            " 4   Transmission   135 non-null    object \n",
            " 5   Owner          135 non-null    float64\n",
            " 6   Present_Price  135 non-null    float64\n",
            " 7   Driven_Miles   135 non-null    float64\n",
            " 8   Selling_Price  135 non-null    float64\n",
            "dtypes: float64(5), object(4)\n",
            "memory usage: 10.7+ KB\n"
          ]
        }
      ],
      "source": [
        "df.info()"
      ]
    },
    {
      "cell_type": "code",
      "execution_count": 162,
      "metadata": {
        "colab": {
          "base_uri": "https://localhost:8080/",
          "height": 290
        },
        "id": "JFfKhvpofepT",
        "outputId": "32609053-1409-4b0b-fa41-d9e68a750dcd"
      },
      "outputs": [
        {
          "data": {
            "text/html": [
              "<div>\n",
              "<style scoped>\n",
              "    .dataframe tbody tr th:only-of-type {\n",
              "        vertical-align: middle;\n",
              "    }\n",
              "\n",
              "    .dataframe tbody tr th {\n",
              "        vertical-align: top;\n",
              "    }\n",
              "\n",
              "    .dataframe thead th {\n",
              "        text-align: right;\n",
              "    }\n",
              "</style>\n",
              "<table border=\"1\" class=\"dataframe\">\n",
              "  <thead>\n",
              "    <tr style=\"text-align: right;\">\n",
              "      <th></th>\n",
              "      <th>Year</th>\n",
              "      <th>Owner</th>\n",
              "      <th>Present_Price</th>\n",
              "      <th>Driven_Miles</th>\n",
              "      <th>Selling_Price</th>\n",
              "      <th>Car_Name_Honda City</th>\n",
              "      <th>Car_Name_Hyundai i20</th>\n",
              "      <th>Car_Name_Kia Seltos</th>\n",
              "      <th>Car_Name_Mahindra XUV500</th>\n",
              "      <th>Car_Name_Maruti Swift</th>\n",
              "      <th>Car_Name_Renault Duster</th>\n",
              "      <th>Car_Name_Tata Nexon</th>\n",
              "      <th>Car_Name_Toyota Corolla</th>\n",
              "      <th>Car_Name_Volkswagen Polo</th>\n",
              "      <th>Fuel_Type_Diesel</th>\n",
              "      <th>Fuel_Type_Petrol</th>\n",
              "      <th>Selling_type_Individual</th>\n",
              "      <th>Transmission_Manual</th>\n",
              "    </tr>\n",
              "  </thead>\n",
              "  <tbody>\n",
              "    <tr>\n",
              "      <th>0</th>\n",
              "      <td>2006.0</td>\n",
              "      <td>0.0</td>\n",
              "      <td>13.68</td>\n",
              "      <td>156404.0</td>\n",
              "      <td>5.56</td>\n",
              "      <td>False</td>\n",
              "      <td>False</td>\n",
              "      <td>False</td>\n",
              "      <td>False</td>\n",
              "      <td>False</td>\n",
              "      <td>True</td>\n",
              "      <td>False</td>\n",
              "      <td>False</td>\n",
              "      <td>False</td>\n",
              "      <td>False</td>\n",
              "      <td>False</td>\n",
              "      <td>False</td>\n",
              "      <td>False</td>\n",
              "    </tr>\n",
              "    <tr>\n",
              "      <th>1</th>\n",
              "      <td>2019.0</td>\n",
              "      <td>2.0</td>\n",
              "      <td>8.46</td>\n",
              "      <td>79369.0</td>\n",
              "      <td>NaN</td>\n",
              "      <td>False</td>\n",
              "      <td>False</td>\n",
              "      <td>False</td>\n",
              "      <td>False</td>\n",
              "      <td>False</td>\n",
              "      <td>False</td>\n",
              "      <td>False</td>\n",
              "      <td>False</td>\n",
              "      <td>False</td>\n",
              "      <td>False</td>\n",
              "      <td>False</td>\n",
              "      <td>True</td>\n",
              "      <td>False</td>\n",
              "    </tr>\n",
              "    <tr>\n",
              "      <th>2</th>\n",
              "      <td>2005.0</td>\n",
              "      <td>0.0</td>\n",
              "      <td>NaN</td>\n",
              "      <td>60875.0</td>\n",
              "      <td>1.97</td>\n",
              "      <td>True</td>\n",
              "      <td>False</td>\n",
              "      <td>False</td>\n",
              "      <td>False</td>\n",
              "      <td>False</td>\n",
              "      <td>False</td>\n",
              "      <td>False</td>\n",
              "      <td>False</td>\n",
              "      <td>False</td>\n",
              "      <td>True</td>\n",
              "      <td>False</td>\n",
              "      <td>False</td>\n",
              "      <td>True</td>\n",
              "    </tr>\n",
              "    <tr>\n",
              "      <th>3</th>\n",
              "      <td>2009.0</td>\n",
              "      <td>0.0</td>\n",
              "      <td>21.79</td>\n",
              "      <td>51116.0</td>\n",
              "      <td>11.43</td>\n",
              "      <td>False</td>\n",
              "      <td>False</td>\n",
              "      <td>True</td>\n",
              "      <td>False</td>\n",
              "      <td>False</td>\n",
              "      <td>False</td>\n",
              "      <td>False</td>\n",
              "      <td>False</td>\n",
              "      <td>False</td>\n",
              "      <td>True</td>\n",
              "      <td>False</td>\n",
              "      <td>True</td>\n",
              "      <td>True</td>\n",
              "    </tr>\n",
              "    <tr>\n",
              "      <th>4</th>\n",
              "      <td>2008.0</td>\n",
              "      <td>0.0</td>\n",
              "      <td>24.75</td>\n",
              "      <td>99211.0</td>\n",
              "      <td>17.64</td>\n",
              "      <td>False</td>\n",
              "      <td>False</td>\n",
              "      <td>False</td>\n",
              "      <td>False</td>\n",
              "      <td>False</td>\n",
              "      <td>False</td>\n",
              "      <td>False</td>\n",
              "      <td>False</td>\n",
              "      <td>False</td>\n",
              "      <td>True</td>\n",
              "      <td>False</td>\n",
              "      <td>False</td>\n",
              "      <td>True</td>\n",
              "    </tr>\n",
              "  </tbody>\n",
              "</table>\n",
              "</div>"
            ],
            "text/plain": [
              "     Year  Owner  Present_Price  Driven_Miles  Selling_Price  \\\n",
              "0  2006.0    0.0          13.68      156404.0           5.56   \n",
              "1  2019.0    2.0           8.46       79369.0            NaN   \n",
              "2  2005.0    0.0            NaN       60875.0           1.97   \n",
              "3  2009.0    0.0          21.79       51116.0          11.43   \n",
              "4  2008.0    0.0          24.75       99211.0          17.64   \n",
              "\n",
              "   Car_Name_Honda City  Car_Name_Hyundai i20  Car_Name_Kia Seltos  \\\n",
              "0                False                 False                False   \n",
              "1                False                 False                False   \n",
              "2                 True                 False                False   \n",
              "3                False                 False                 True   \n",
              "4                False                 False                False   \n",
              "\n",
              "   Car_Name_Mahindra XUV500  Car_Name_Maruti Swift  Car_Name_Renault Duster  \\\n",
              "0                     False                  False                     True   \n",
              "1                     False                  False                    False   \n",
              "2                     False                  False                    False   \n",
              "3                     False                  False                    False   \n",
              "4                     False                  False                    False   \n",
              "\n",
              "   Car_Name_Tata Nexon  Car_Name_Toyota Corolla  Car_Name_Volkswagen Polo  \\\n",
              "0                False                    False                     False   \n",
              "1                False                    False                     False   \n",
              "2                False                    False                     False   \n",
              "3                False                    False                     False   \n",
              "4                False                    False                     False   \n",
              "\n",
              "   Fuel_Type_Diesel  Fuel_Type_Petrol  Selling_type_Individual  \\\n",
              "0             False             False                    False   \n",
              "1             False             False                     True   \n",
              "2              True             False                    False   \n",
              "3              True             False                     True   \n",
              "4              True             False                    False   \n",
              "\n",
              "   Transmission_Manual  \n",
              "0                False  \n",
              "1                False  \n",
              "2                 True  \n",
              "3                 True  \n",
              "4                 True  "
            ]
          },
          "execution_count": 162,
          "metadata": {},
          "output_type": "execute_result"
        }
      ],
      "source": [
        "df_clean = pd.get_dummies(df, drop_first=True)\n",
        "df_clean.head()"
      ]
    },
    {
      "cell_type": "code",
      "execution_count": 163,
      "metadata": {
        "id": "Ceja8ez8fh9S"
      },
      "outputs": [],
      "source": [
        "from sklearn.model_selection import train_test_split\n",
        "from sklearn.preprocessing import OneHotEncoder\n",
        "import pandas as pd\n",
        "\n",
        "# Separate features and target\n",
        "x = df_clean.drop('Selling_Price', axis=1)\n",
        "y = df_clean['Selling_Price']\n",
        "\n",
        "# Drop rows where y or x has NaN\n",
        "df_model = pd.concat([x, y], axis=1).dropna()\n",
        "x = df_model.drop('Selling_Price', axis=1)\n",
        "y = df_model['Selling_Price']\n",
        "\n",
        "# One-hot encode categorical columns\n",
        "x = pd.get_dummies(x, drop_first=True)\n",
        "\n",
        "# Train-test split\n",
        "x_train, x_test, y_train, y_test = train_test_split(x, y, test_size=0.2, random_state=42)\n"
      ]
    },
    {
      "cell_type": "code",
      "execution_count": 164,
      "metadata": {
        "colab": {
          "base_uri": "https://localhost:8080/",
          "height": 80
        },
        "id": "PnLNtGdmg0c3",
        "outputId": "e9ed0ad1-8ad0-4e04-93c5-45ff1d8bfc1a"
      },
      "outputs": [
        {
          "name": "stdout",
          "output_type": "stream",
          "text": [
            "Train R²: 0.8604111862827278\n",
            "Test R²: 0.743124966335381\n"
          ]
        }
      ],
      "source": [
        "from sklearn.linear_model import LinearRegression\n",
        "\n",
        "model = LinearRegression()\n",
        "model.fit(x_train, y_train)\n",
        "\n",
        "print(\"Train R²:\", model.score(x_train, y_train))\n",
        "print(\"Test R²:\", model.score(x_test, y_test))\n"
      ]
    },
    {
      "cell_type": "code",
      "execution_count": 165,
      "metadata": {
        "colab": {
          "base_uri": "https://localhost:8080/"
        },
        "id": "KsRIH8fDhO4m",
        "outputId": "f47a8c7e-3ea0-4eee-edcc-11eb32d95363"
      },
      "outputs": [
        {
          "data": {
            "text/plain": [
              "0.743124966335381"
            ]
          },
          "execution_count": 165,
          "metadata": {},
          "output_type": "execute_result"
        }
      ],
      "source": [
        "from sklearn.metrics import r2_score\n",
        "y_pred = model.predict(x_test)\n",
        "r2_score(y_test,y_pred)"
      ]
    },
    {
      "cell_type": "code",
      "execution_count": 166,
      "metadata": {
        "colab": {
          "base_uri": "https://localhost:8080/"
        },
        "id": "J867T3yNhtqf",
        "outputId": "f9cbe2e8-9b2b-4ad2-f9b0-033ba7d66435"
      },
      "outputs": [
        {
          "name": "stdout",
          "output_type": "stream",
          "text": [
            "['Year', 'Owner', 'Present_Price', 'Driven_Miles', 'Car_Name_Honda City', 'Car_Name_Hyundai i20', 'Car_Name_Kia Seltos', 'Car_Name_Mahindra XUV500', 'Car_Name_Maruti Swift', 'Car_Name_Renault Duster', 'Car_Name_Tata Nexon', 'Car_Name_Toyota Corolla', 'Car_Name_Volkswagen Polo', 'Fuel_Type_Diesel', 'Fuel_Type_Petrol', 'Selling_type_Individual', 'Transmission_Manual']\n"
          ]
        }
      ],
      "source": [
        "print(x.columns.tolist())\n"
      ]
    },
    {
      "cell_type": "code",
      "execution_count": 167,
      "metadata": {
        "colab": {
          "base_uri": "https://localhost:8080/"
        },
        "id": "3wh9Jlivh8MS",
        "outputId": "68669f43-bdb8-477e-e3ec-a6af04f53b5b"
      },
      "outputs": [
        {
          "name": "stdout",
          "output_type": "stream",
          "text": [
            "Predicted Selling Price: £3.87\n"
          ]
        },
        {
          "name": "stderr",
          "output_type": "stream",
          "text": [
            "c:\\Users\\joelj\\AppData\\Local\\Programs\\Python\\Python313\\Lib\\site-packages\\sklearn\\utils\\validation.py:2749: UserWarning: X does not have valid feature names, but LinearRegression was fitted with feature names\n",
            "  warnings.warn(\n"
          ]
        }
      ],
      "source": [
        "import numpy as np\n",
        "\n",
        "# Initialize all to 0\n",
        "input_data = [0] * len(x.columns)\n",
        "\n",
        "# Fill numerical values\n",
        "input_data[x.columns.get_loc('Year')] = 2016\n",
        "input_data[x.columns.get_loc('Present_Price')] = 8.5  # GBP\n",
        "input_data[x.columns.get_loc('Driven_Miles')] = 45000\n",
        "input_data[x.columns.get_loc('Owner')] = 0\n",
        "\n",
        "# Set car name (one-hot encoding)\n",
        "input_data[x.columns.get_loc('Car_Name_Hyundai i20')] = 1\n",
        "\n",
        "# Set fuel type (one-hot)\n",
        "input_data[x.columns.get_loc('Fuel_Type_Petrol')] = 1\n",
        "# For Diesel: input_data[x.columns.get_loc('Fuel_Type_Diesel')] = 1\n",
        "\n",
        "# Set selling type\n",
        "input_data[x.columns.get_loc('Selling_type_Individual')] = 1\n",
        "\n",
        "# Set transmission\n",
        "input_data[x.columns.get_loc('Transmission_Manual')] = 1\n",
        "\n",
        "# Convert to 2D array and predict\n",
        "sample = np.array(input_data).reshape(1, -1)\n",
        "predicted_price = model.predict(sample)\n",
        "\n",
        "print(f\"Predicted Selling Price: £{predicted_price[0]:,.2f}\")\n",
        "\n"
      ]
    },
    {
      "cell_type": "code",
      "execution_count": 169,
      "metadata": {
        "colab": {
          "base_uri": "https://localhost:8080/",
          "height": 472
        },
        "id": "9fwnMs4nikG-",
        "outputId": "5482650f-3892-448d-e746-0468f409a2b6"
      },
      "outputs": [
        {
          "data": {
            "image/png": "[encoded data removed]",
            "text/plain": [
              "<Figure size 640x480 with 1 Axes>"
            ]
          },
          "metadata": {},
          "output_type": "display_data"
        }
      ],
      "source": [
        "import seaborn as sns\n",
        "import matplotlib.pyplot as plt\n",
        "\n",
        "sns.scatterplot(x=df['Present_Price'], y=df['Selling_Price'])\n",
        "plt.title('Present Price vs Selling Price')\n",
        "plt.show()\n"
      ]
    }
  ],
  "metadata": {
    "colab": {
      "provenance": []
    },
    "kernelspec": {
      "display_name": "Python 3",
      "name": "python3"
    },
    "language_info": {
      "codemirror_mode": {
        "name": "ipython",
        "version": 3
      },
      "file_extension": ".py",
      "mimetype": "text/x-python",
      "name": "python",
      "nbconvert_exporter": "python",
      "pygments_lexer": "ipython3",
      "version": "3.13.7"
    }
  },
  "nbformat": 4,
  "nbformat_minor": 0
}
